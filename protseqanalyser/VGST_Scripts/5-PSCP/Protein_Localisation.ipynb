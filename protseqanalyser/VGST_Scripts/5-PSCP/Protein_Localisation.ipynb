{
 "cells": [
  {
   "cell_type": "code",
   "execution_count": 1,
   "metadata": {},
   "outputs": [],
   "source": [
    "import glob\n",
    "import numpy as np\n",
    "import pandas as pd\n",
    "from parse_files import *\n",
    "from features import monogram_features, bigram_features, trigram_features, bigram_features1, bigram_features2, bigram_features3, bigram_features4, bigram_features5\n",
    "from sklearn import svm\n",
    "from sklearn.neural_network import MLPClassifier\n",
    "from sklearn.ensemble import RandomForestClassifier, VotingClassifier, GradientBoostingClassifier\n",
    "import math\n",
    "\n",
    "ID=sys.argv[1]\n",
    "\n",
    "PSSM_File=\"../PSI-BLAST/Datasets/WebRequests/pssm/\"+ID+\".txt\"\n",
    "HMM_File=\"../HHBlits/Datasets/WebRequests/hmm/\"+ID+\".txt\"\n",
    "PSIPRED_File=\"\""
   ]
  },
  {
   "cell_type": "code",
   "execution_count": 2,
   "metadata": {},
   "outputs": [
    {
     "name": "stdout",
     "output_type": "stream",
     "text": [
      "578\n",
      "reading pssm_sigmoid files, building bigram_features ...\n"
     ]
    }
   ],
   "source": [
    "\n",
    "\n",
    "# Possible values for feature_func are: monogram_features, bigram_features, trigram_features\n",
    "feature_func =bigram_features\n",
    "# Possible values for probtype are 'pssm','hmm',pssm_sigmoid this selects the source the features are generated from\n",
    "parse_probabilities = parse_pssm_sigmoid\n",
    "# Possible values for dataset are 'benchmark','novel'\n",
    "(seq,probs,lprob) = parse_probabilities(PSSM_File)\n",
    "pssm=np.squeeze(np.asarray(feature_func(lprob)))"
   ]
  },
  {
   "cell_type": "code",
   "execution_count": null,
   "metadata": {},
   "outputs": [],
   "source": [
    "# Possible values for feature_func are: monogram_features, bigram_features, trigram_features\n",
    "feature_func=bigram_features\n",
    "parse_probabilities = parse_hmm\n",
    "(seq,probs,lprob) = parse_probabilities(HMM_File)\n",
    "hmm=np.squeeze(np.asarray(feature_func(probs)))\n"
   ]
  },
  {
   "cell_type": "code",
   "execution_count": 3,
   "metadata": {},
   "outputs": [
    {
     "data": {
      "text/plain": [
       "((578, 400),\n",
       " array([[ 15.61235507,  13.74646075,  15.64122018, ...,   6.9849526 ,\n",
       "          11.10697608,  14.25696172],\n",
       "        [  7.6995054 ,   6.40707929,   7.29179653, ...,   4.89713061,\n",
       "          10.31846086,  13.78435254],\n",
       "        [ 13.11717504,  12.89909636,  15.45211332, ...,   3.17100848,\n",
       "           4.77611985,  13.66486695],\n",
       "        ...,\n",
       "        [ 35.29866218,  20.75341468,  19.82444861, ...,  10.36299541,\n",
       "          13.95517676,  22.59972714],\n",
       "        [ 79.09361285,  75.74907976,  69.96578075, ...,  40.09262949,\n",
       "          59.69979024,  74.44658302],\n",
       "        [114.67387864, 108.20555118,  93.71717842, ...,  35.8261768 ,\n",
       "          49.09180327,  69.35014864]]))"
      ]
     },
     "execution_count": 3,
     "metadata": {},
     "output_type": "execute_result"
    }
   ],
   "source": [
    "# X.append(np.concatenate((pssm,hmm_feat)))\n",
    "X=pssm\n",
    "X=np.array(X)\n",
    "X.shape,X"
   ]
  },
  {
   "cell_type": "code",
   "execution_count": 4,
   "metadata": {},
   "outputs": [
    {
     "data": {
      "text/plain": [
       "(578, 5)"
      ]
     },
     "execution_count": 4,
     "metadata": {},
     "output_type": "execute_result"
    }
   ],
   "source": [
    "from joblib import dump, load\n",
    "import numpy as np\n",
    "import random\n",
    "from sklearn.preprocessing import scale\n",
    "X=scale(X)\n",
    "classifier=load('SVMC')\n",
    "pred_vec=classifier.predict(X)\n",
    "str_toint=['envelope','stroma','lumen','thylakoid_membrane','plastoglobule']\n",
    "prediction=[]\n",
    "for i in range(len(pred_vec)):\n",
    "    if pred_vec[i]==1:\n",
    "        prediction.append(str_joint[i])\n",
    "print(prediction)"
   ]
  },
  {
   "cell_type": "code",
   "execution_count": 5,
   "metadata": {},
   "outputs": [],
   "source": []
  },
  {
   "cell_type": "code",
   "execution_count": null,
   "metadata": {},
   "outputs": [],
   "source": []
  }
 ],
 "metadata": {
  "kernelspec": {
   "display_name": "Python 2",
   "language": "python",
   "name": "python2"
  },
  "language_info": {
   "codemirror_mode": {
    "name": "ipython",
    "version": 2
   },
   "file_extension": ".py",
   "mimetype": "text/x-python",
   "name": "python",
   "nbconvert_exporter": "python",
   "pygments_lexer": "ipython2",
   "version": "2.7.14"
  }
 },
 "nbformat": 4,
 "nbformat_minor": 2
}
